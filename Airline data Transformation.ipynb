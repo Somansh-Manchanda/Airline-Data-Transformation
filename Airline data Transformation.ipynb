{
  "cells": [
    {
      "cell_type": "markdown",
      "source": [
        "###que 1:Create a DF(airlines_1987_to_2008) from this path\n",
        "\n",
        " %fs ls dbfs:/databricks-datasets/asa/airlines/"
      ],
      "metadata": {
        "application/vnd.databricks.v1+cell": {
          "showTitle": false,
          "cellMetadata": {},
          "nuid": "f2e77f9c-14ab-4c14-91b6-8a6b60c8a314",
          "inputWidgets": {},
          "title": ""
        },
        "id": "XRiQCM21sYZQ"
      }
    },
    {
      "cell_type": "code",
      "source": [
        "%fs ls dbfs:/databricks-datasets/asa/airlines/"
      ],
      "metadata": {
        "application/vnd.databricks.v1+cell": {
          "showTitle": false,
          "cellMetadata": {
            "rowLimit": 10000,
            "byteLimit": 2048000
          },
          "nuid": "4d36fcd2-2b9b-4f0b-9fd8-29d745735c61",
          "inputWidgets": {},
          "title": ""
        },
        "id": "Hen2jrFnsYZV"
      },
      "outputs": [],
      "execution_count": null
    },
    {
      "cell_type": "markdown",
      "source": [
        "###reading the multiples in airlines dataframe"
      ],
      "metadata": {
        "application/vnd.databricks.v1+cell": {
          "showTitle": false,
          "cellMetadata": {},
          "nuid": "46207ff1-8cc1-455c-bafa-92553fe769b9",
          "inputWidgets": {},
          "title": ""
        },
        "id": "lfVnfWSHsYZX"
      }
    },
    {
      "cell_type": "code",
      "source": [
        "airlines=spark.read.load(\"dbfs:/databricks-datasets/asa/airlines\",format=\"csv\",header='TRUE',schema=airline_schema)"
      ],
      "metadata": {
        "application/vnd.databricks.v1+cell": {
          "showTitle": false,
          "cellMetadata": {
            "rowLimit": 10000,
            "byteLimit": 2048000
          },
          "nuid": "02142453-32d7-4a74-a4fe-fb585bd61056",
          "inputWidgets": {},
          "title": ""
        },
        "id": "pZaYlDgVsYZY"
      },
      "outputs": [],
      "execution_count": null
    },
    {
      "cell_type": "markdown",
      "source": [
        "###que 2:Create a PySpark Datatypes schema for the above DF"
      ],
      "metadata": {
        "application/vnd.databricks.v1+cell": {
          "showTitle": false,
          "cellMetadata": {},
          "nuid": "89ae35ae-0005-4577-ae51-04e88d1350c3",
          "inputWidgets": {},
          "title": ""
        },
        "id": "Zcye98j-sYZY"
      }
    },
    {
      "cell_type": "code",
      "source": [
        "airline_schema = StructType([\n",
        "    StructField(\"Year\",IntegerType(),True),\n",
        "    StructField(\"Month\",IntegerType(),True),\n",
        "    StructField(\"DayofMonth\",IntegerType(),True),\n",
        "    StructField(\"DayOfWeek\", IntegerType(), True),\n",
        "    StructField(\"DepTime\", StringType(), True),\n",
        "    StructField(\"CRSDepTime\", IntegerType(), True),\n",
        "    StructField(\"ArrTime\",StringType(),True),\n",
        "    StructField(\"CRSArrTime\",IntegerType(),True),\n",
        "    StructField(\"UniqueCarrier\",StringType(),True),\n",
        "    StructField(\"FlightNum\",IntegerType(),True),\n",
        "    StructField(\"TailNum\", StringType(), True),\n",
        "    StructField(\"ActualElapsedTime\", StringType(), True),\n",
        "    StructField(\"CRSElapsedTime\",StringType(), True),\n",
        "    StructField(\"AirTime\",StringType(),True),\n",
        "    StructField(\"ArrDelay\",StringType(),True),\n",
        "    StructField(\"DepDelay\",StringType(),True),\n",
        "    StructField(\"Origin\", StringType(), True),\n",
        "    StructField(\"Dest\", StringType(), True),\n",
        "    StructField(\"Distance\", DoubleType(), True),\n",
        "    StructField(\"TaxiIn\",StringType(),True),\n",
        "    StructField(\"TaxiOut\",StringType(),True),\n",
        "    StructField(\"Cancelled\",IntegerType(),True),\n",
        "    StructField(\"CancellationCode\",StringType(), True),\n",
        "    StructField(\"Diverted\", IntegerType(), True),\n",
        "    StructField(\"CarrierDelay\", StringType(), True),\n",
        "    StructField(\"WeatherDelay\", StringType(), True),\n",
        "    StructField(\"NASDelay\", StringType(), True),\n",
        "    StructField(\"SecurityDelay\",StringType(), True),\n",
        "    StructField(\"LateAircraftDelay\",StringType(),True)\n",
        "])"
      ],
      "metadata": {
        "application/vnd.databricks.v1+cell": {
          "showTitle": false,
          "cellMetadata": {},
          "nuid": "4f52c0d0-e42e-410b-9f76-a62be0a4c067",
          "inputWidgets": {},
          "title": ""
        },
        "id": "DqL0LxulsYZZ"
      },
      "outputs": [],
      "execution_count": null
    },
    {
      "cell_type": "markdown",
      "source": [
        "###que 3:View the dataframe"
      ],
      "metadata": {
        "application/vnd.databricks.v1+cell": {
          "showTitle": false,
          "cellMetadata": {},
          "nuid": "b46b6c85-a852-4c4d-9946-c94421b18bc3",
          "inputWidgets": {},
          "title": ""
        },
        "id": "w72FMc4KsYZZ"
      }
    },
    {
      "cell_type": "code",
      "source": [
        "display(airlines)"
      ],
      "metadata": {
        "application/vnd.databricks.v1+cell": {
          "showTitle": false,
          "cellMetadata": {},
          "nuid": "e36cbde7-d089-4dd2-995c-142689031fff",
          "inputWidgets": {},
          "title": ""
        },
        "id": "-O6Y0-oSsYZa"
      },
      "outputs": [],
      "execution_count": null
    },
    {
      "cell_type": "markdown",
      "source": [
        "###que 4: Return count of records in dataframe"
      ],
      "metadata": {
        "application/vnd.databricks.v1+cell": {
          "showTitle": false,
          "cellMetadata": {},
          "nuid": "5f3eb8e5-2bff-4393-b347-503d11052e7b",
          "inputWidgets": {},
          "title": ""
        },
        "id": "a7hClPLesYZb"
      }
    },
    {
      "cell_type": "code",
      "source": [
        "airlines.count()"
      ],
      "metadata": {
        "application/vnd.databricks.v1+cell": {
          "showTitle": false,
          "cellMetadata": {},
          "nuid": "1bb06bbc-1668-4e15-826c-935d2be54742",
          "inputWidgets": {},
          "title": ""
        },
        "id": "Vdf56-0xsYZb"
      },
      "outputs": [],
      "execution_count": null
    },
    {
      "cell_type": "markdown",
      "source": [
        "###que 5: Select the columns - Origin, Dest and Distance"
      ],
      "metadata": {
        "application/vnd.databricks.v1+cell": {
          "showTitle": false,
          "cellMetadata": {},
          "nuid": "92ff9a03-cd60-4aaf-b20c-fb284b3d7795",
          "inputWidgets": {},
          "title": ""
        },
        "id": "CYZThA1dsYZc"
      }
    },
    {
      "cell_type": "code",
      "source": [
        "airlines.select(\"Origin\",\"Dest\",\"Distance\").display()"
      ],
      "metadata": {
        "application/vnd.databricks.v1+cell": {
          "showTitle": false,
          "cellMetadata": {
            "rowLimit": 10000,
            "byteLimit": 2048000
          },
          "nuid": "1f0b77d3-e91a-46ab-80da-449b3ef6b2c4",
          "inputWidgets": {},
          "title": ""
        },
        "id": "_3sFjRPfsYZc"
      },
      "outputs": [],
      "execution_count": null
    },
    {
      "cell_type": "markdown",
      "source": [
        "###que 6:Filtering data with 'where' method, where Year = 2001"
      ],
      "metadata": {
        "application/vnd.databricks.v1+cell": {
          "showTitle": false,
          "cellMetadata": {},
          "nuid": "169354a3-b9e9-457f-ad1a-6cf369cabed1",
          "inputWidgets": {},
          "title": ""
        },
        "id": "bzUbzWvNsYZc"
      }
    },
    {
      "cell_type": "code",
      "source": [
        "airlines.where(airlines.Year==2001).display()"
      ],
      "metadata": {
        "application/vnd.databricks.v1+cell": {
          "showTitle": false,
          "cellMetadata": {
            "rowLimit": 10000,
            "byteLimit": 2048000
          },
          "nuid": "c5b9d386-15d4-4610-8f71-045618082cc9",
          "inputWidgets": {},
          "title": ""
        },
        "id": "g3H9S4HPsYZd"
      },
      "outputs": [],
      "execution_count": null
    },
    {
      "cell_type": "markdown",
      "source": [
        "###que 7: Create a new dataframe (airlines_1987_to_2008_drop_DayofMonth) exluding dropped column (“DayofMonth”)"
      ],
      "metadata": {
        "application/vnd.databricks.v1+cell": {
          "showTitle": false,
          "cellMetadata": {},
          "nuid": "24709a43-bf85-4a36-8615-dc86a6bcf7a0",
          "inputWidgets": {},
          "title": ""
        },
        "id": "2nPIUe0usYZd"
      }
    },
    {
      "cell_type": "code",
      "source": [
        "airlines_1987_to_2008_drop_DayofMonth = airlines.drop(\"DayofMonth\")"
      ],
      "metadata": {
        "application/vnd.databricks.v1+cell": {
          "showTitle": false,
          "cellMetadata": {
            "rowLimit": 10000,
            "byteLimit": 2048000
          },
          "nuid": "f9b076cc-a87a-458c-9c22-9d5fa8a9dfcb",
          "inputWidgets": {},
          "title": ""
        },
        "id": "bUMl6hsssYZd"
      },
      "outputs": [],
      "execution_count": null
    },
    {
      "cell_type": "markdown",
      "source": [
        "###que 8:Display new DataFrame"
      ],
      "metadata": {
        "application/vnd.databricks.v1+cell": {
          "showTitle": false,
          "cellMetadata": {},
          "nuid": "30d2f844-816c-4d01-85c5-b95e2a670da2",
          "inputWidgets": {},
          "title": ""
        },
        "id": "1TYiFNCFsYZd"
      }
    },
    {
      "cell_type": "code",
      "source": [
        "display(airlines_1987_to_2008_drop_DayofMonth)"
      ],
      "metadata": {
        "application/vnd.databricks.v1+cell": {
          "showTitle": false,
          "cellMetadata": {
            "rowLimit": 10000,
            "byteLimit": 2048000
          },
          "nuid": "8def23d8-b89d-4abb-8a35-0ec13f1d899e",
          "inputWidgets": {},
          "title": ""
        },
        "id": "j-cfDSQzsYZe"
      },
      "outputs": [],
      "execution_count": null
    },
    {
      "cell_type": "markdown",
      "source": [
        "###que 9:Create column 'Weekend' and a new dataframe(AddNewColumn) and display"
      ],
      "metadata": {
        "application/vnd.databricks.v1+cell": {
          "showTitle": false,
          "cellMetadata": {},
          "nuid": "dc3f27a2-7c5a-451d-8407-ae7c6adb2ed3",
          "inputWidgets": {},
          "title": ""
        },
        "id": "NQHcFzG-sYZe"
      }
    },
    {
      "cell_type": "code",
      "source": [
        "new_df = airlines.withColumn(\"Weekend\", when(airlines.DayOfWeek == 1,\"Monday\")\\\n",
        "                                       .when(airlines.DayOfWeek == 2,\"Tuesday\")\\\n",
        "                                       .when(airlines.DayOfWeek == 3,\"Wednesday\")\\\n",
        "                                       .when(airlines.DayOfWeek == 4,\"Thrusday\")\\\n",
        "                                       .when(airlines.DayOfWeek == 5,\"Friday\")\\\n",
        "                                       .when(airlines.DayOfWeek == 6,\"Saturday\")\\\n",
        "                                       .when(airlines.DayOfWeek == 7,\"Sunday\")\\\n",
        "                                       .otherwise(\"unknown\")\n",
        "                                       )"
      ],
      "metadata": {
        "application/vnd.databricks.v1+cell": {
          "showTitle": false,
          "cellMetadata": {
            "rowLimit": 10000,
            "byteLimit": 2048000
          },
          "nuid": "3325754f-b740-4162-a9ea-5732c86b3523",
          "inputWidgets": {},
          "title": ""
        },
        "id": "8EohG5_IsYZe"
      },
      "outputs": [],
      "execution_count": null
    },
    {
      "cell_type": "code",
      "source": [
        "weekend_df = airlines.withColumn(\"Weekend\", (airlines.DayOfWeek == 7) | ( airlines.DayOfWeek== 1))"
      ],
      "metadata": {
        "application/vnd.databricks.v1+cell": {
          "showTitle": false,
          "cellMetadata": {
            "rowLimit": 10000,
            "byteLimit": 2048000
          },
          "nuid": "275fe202-7567-4ffa-9949-2e940c19f4dc",
          "inputWidgets": {},
          "title": ""
        },
        "id": "MLlW2_DvsYZe"
      },
      "outputs": [],
      "execution_count": null
    },
    {
      "cell_type": "code",
      "source": [
        "display(new_df)"
      ],
      "metadata": {
        "application/vnd.databricks.v1+cell": {
          "showTitle": false,
          "cellMetadata": {
            "rowLimit": 10000,
            "byteLimit": 2048000
          },
          "nuid": "5f59210d-f34e-4d99-8fb2-4536043dd25b",
          "inputWidgets": {},
          "title": ""
        },
        "id": "6ucTC0iSsYZf"
      },
      "outputs": [],
      "execution_count": null
    },
    {
      "cell_type": "code",
      "source": [
        "display(weekend_df)"
      ],
      "metadata": {
        "application/vnd.databricks.v1+cell": {
          "showTitle": false,
          "cellMetadata": {},
          "nuid": "e94d9566-08ac-43b1-a488-3609e0cf44c1",
          "inputWidgets": {},
          "title": ""
        },
        "id": "2dKQqrewsYZf"
      },
      "outputs": [],
      "execution_count": null
    },
    {
      "cell_type": "markdown",
      "source": [
        "###que 10:Cast ActualElapsedTime column to integer and use printschema to verify"
      ],
      "metadata": {
        "application/vnd.databricks.v1+cell": {
          "showTitle": false,
          "cellMetadata": {},
          "nuid": "c0edf7b5-d726-47f2-a467-9dbe81ab34ae",
          "inputWidgets": {},
          "title": ""
        },
        "id": "AXEoUK8TsYZf"
      }
    },
    {
      "cell_type": "code",
      "source": [
        "from pyspark.sql.functions import *"
      ],
      "metadata": {
        "application/vnd.databricks.v1+cell": {
          "showTitle": false,
          "cellMetadata": {
            "rowLimit": 10000,
            "byteLimit": 2048000
          },
          "nuid": "ef43dc56-3a81-4235-9884-96e1772373cb",
          "inputWidgets": {},
          "title": ""
        },
        "id": "Hsw5paptsYZf"
      },
      "outputs": [],
      "execution_count": null
    },
    {
      "cell_type": "code",
      "source": [
        "airlines.withColumn(\"ActualElapsedTime\",col(\"ActualElapsedTime\").cast(\"Integer\")).printSchema()"
      ],
      "metadata": {
        "application/vnd.databricks.v1+cell": {
          "showTitle": false,
          "cellMetadata": {
            "rowLimit": 10000,
            "byteLimit": 2048000
          },
          "nuid": "aa0880be-386c-4101-8b23-234356cec114",
          "inputWidgets": {},
          "title": ""
        },
        "id": "E3-Q-nQ5sYZf"
      },
      "outputs": [],
      "execution_count": null
    },
    {
      "cell_type": "markdown",
      "source": [
        "####que 11:Rename 'DepTime' to 'DepartureTime'"
      ],
      "metadata": {
        "application/vnd.databricks.v1+cell": {
          "showTitle": false,
          "cellMetadata": {},
          "nuid": "50ba06dd-b75f-43d2-a3aa-6e7e7834d4a0",
          "inputWidgets": {},
          "title": ""
        },
        "id": "GbzNB5IUsYZf"
      }
    },
    {
      "cell_type": "code",
      "source": [
        "airlines.withColumnRenamed(\"DepTime\",\"DepartureTime\").display()"
      ],
      "metadata": {
        "application/vnd.databricks.v1+cell": {
          "showTitle": false,
          "cellMetadata": {
            "rowLimit": 10000,
            "byteLimit": 2048000
          },
          "nuid": "f2818aa0-4f0a-4c74-9a76-a04f4dc9caa6",
          "inputWidgets": {},
          "title": ""
        },
        "id": "Ummp5CTvsYZf"
      },
      "outputs": [],
      "execution_count": null
    },
    {
      "cell_type": "markdown",
      "source": [
        "#### que 12:Drop duplicate rows based on Year and Month and Create new df (Drop Rows)"
      ],
      "metadata": {
        "application/vnd.databricks.v1+cell": {
          "showTitle": false,
          "cellMetadata": {},
          "nuid": "78ee7885-f0a5-4e65-aa8d-8a2e683b2de3",
          "inputWidgets": {},
          "title": ""
        },
        "id": "RBvGonnTsYZg"
      }
    },
    {
      "cell_type": "code",
      "source": [
        "drop_rows = airlines.dropDuplicates(['Year','Month'])"
      ],
      "metadata": {
        "application/vnd.databricks.v1+cell": {
          "showTitle": false,
          "cellMetadata": {
            "rowLimit": 10000,
            "byteLimit": 2048000
          },
          "nuid": "b58367d9-cb96-406f-b8d9-84bd11df7adb",
          "inputWidgets": {},
          "title": ""
        },
        "id": "HHNf_bV-sYZg"
      },
      "outputs": [],
      "execution_count": null
    },
    {
      "cell_type": "code",
      "source": [
        "display(drop_rows)"
      ],
      "metadata": {
        "application/vnd.databricks.v1+cell": {
          "showTitle": false,
          "cellMetadata": {
            "rowLimit": 10000,
            "byteLimit": 2048000
          },
          "nuid": "c2e6fe55-0080-49ff-a464-becc0b8febf4",
          "inputWidgets": {},
          "title": ""
        },
        "id": "xzJERRuGsYZg"
      },
      "outputs": [],
      "execution_count": null
    },
    {
      "cell_type": "markdown",
      "source": [
        "###que 13: Display Sort by descending order for Year Column using sort()"
      ],
      "metadata": {
        "application/vnd.databricks.v1+cell": {
          "showTitle": false,
          "cellMetadata": {},
          "nuid": "b6ac0bcd-6d97-46bc-9a74-c5f0bee4d13b",
          "inputWidgets": {},
          "title": ""
        },
        "id": "sXIC1qQysYZg"
      }
    },
    {
      "cell_type": "code",
      "source": [
        "airlines.sort(airlines.Year.desc()).display()"
      ],
      "metadata": {
        "application/vnd.databricks.v1+cell": {
          "showTitle": false,
          "cellMetadata": {
            "rowLimit": 10000,
            "byteLimit": 2048000
          },
          "nuid": "cc143154-eeba-441b-8bd9-6efc2bbf5a1e",
          "inputWidgets": {},
          "title": ""
        },
        "id": "YxSKRFvzsYZg"
      },
      "outputs": [],
      "execution_count": null
    },
    {
      "cell_type": "markdown",
      "source": [
        "###que 14:Group data according to Origin and returning count"
      ],
      "metadata": {
        "application/vnd.databricks.v1+cell": {
          "showTitle": false,
          "cellMetadata": {},
          "nuid": "d806867c-dfe6-4b3f-b6ae-93226ed652f3",
          "inputWidgets": {},
          "title": ""
        },
        "id": "AwKgNR-RsYZh"
      }
    },
    {
      "cell_type": "code",
      "source": [
        "airlines.groupBy(\"Origin\").count().display()"
      ],
      "metadata": {
        "application/vnd.databricks.v1+cell": {
          "showTitle": false,
          "cellMetadata": {
            "rowLimit": 10000,
            "byteLimit": 2048000
          },
          "nuid": "224e2ee1-163d-4cda-82b8-0753992ca428",
          "inputWidgets": {},
          "title": ""
        },
        "id": "gILIy0WRsYZh"
      },
      "outputs": [],
      "execution_count": null
    },
    {
      "cell_type": "markdown",
      "source": [
        "####que 15:Group data according to dest and finding maximum value for each 'Dest'"
      ],
      "metadata": {
        "application/vnd.databricks.v1+cell": {
          "showTitle": false,
          "cellMetadata": {},
          "nuid": "4a4fc8b1-f9e8-4722-89a6-2a6e186e8dc3",
          "inputWidgets": {},
          "title": ""
        },
        "id": "jIuycnUVsYZh"
      }
    },
    {
      "cell_type": "code",
      "source": [
        "airlines.groupBy(\"Dest\").max().display()"
      ],
      "metadata": {
        "application/vnd.databricks.v1+cell": {
          "showTitle": false,
          "cellMetadata": {
            "rowLimit": 10000,
            "byteLimit": 2048000
          },
          "nuid": "ce0bd970-f038-425a-b415-72127ab874bb",
          "inputWidgets": {},
          "title": ""
        },
        "id": "YHzzM2ObsYZh"
      },
      "outputs": [],
      "execution_count": null
    },
    {
      "cell_type": "markdown",
      "source": [
        "###que 16:Write data in Delta format"
      ],
      "metadata": {
        "application/vnd.databricks.v1+cell": {
          "showTitle": false,
          "cellMetadata": {},
          "nuid": "525df5a3-aae4-4eb0-9639-ba1f8db07732",
          "inputWidgets": {},
          "title": ""
        },
        "id": "IfvrUy-UsYZh"
      }
    },
    {
      "cell_type": "code",
      "source": [
        "airlines.write.mode('overwrite').saveAsTable(\"airline\")"
      ],
      "metadata": {
        "application/vnd.databricks.v1+cell": {
          "showTitle": false,
          "cellMetadata": {
            "rowLimit": 10000,
            "byteLimit": 2048000
          },
          "nuid": "733cd9a6-f4ed-428e-bf98-031277cca30b",
          "inputWidgets": {},
          "title": ""
        },
        "id": "LDPXpF2wsYZh"
      },
      "outputs": [],
      "execution_count": null
    },
    {
      "cell_type": "code",
      "source": [
        "%sql\n",
        "select * from airline where Year=2008;"
      ],
      "metadata": {
        "application/vnd.databricks.v1+cell": {
          "showTitle": false,
          "cellMetadata": {
            "rowLimit": 10000,
            "byteLimit": 2048000,
            "implicitDf": true
          },
          "nuid": "ad6bad79-2670-46ab-9977-96fa90ccc688",
          "inputWidgets": {},
          "title": ""
        },
        "id": "b8H-CNnusYZs"
      },
      "outputs": [],
      "execution_count": null
    },
    {
      "cell_type": "code",
      "source": [],
      "metadata": {
        "application/vnd.databricks.v1+cell": {
          "showTitle": false,
          "cellMetadata": {},
          "nuid": "850c225e-ec99-4c31-b16e-fc9ec4955c8f",
          "inputWidgets": {},
          "title": ""
        },
        "id": "91JlPF6VsYZt"
      },
      "outputs": [],
      "execution_count": null
    }
  ],
  "metadata": {
    "application/vnd.databricks.v1+notebook": {
      "notebookName": "capstone project(pyspark odinSchool)",
      "dashboards": [],
      "notebookMetadata": {
        "pythonIndentUnit": 4,
        "mostRecentlyExecutedCommandWithImplicitDF": {
          "commandId": 968791527908342,
          "dataframes": [
            "_sqldf"
          ]
        }
      },
      "language": "python",
      "widgets": {}
    },
    "colab": {
      "provenance": []
    }
  },
  "nbformat": 4,
  "nbformat_minor": 0
}